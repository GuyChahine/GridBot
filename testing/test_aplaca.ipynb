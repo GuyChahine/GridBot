{
 "cells": [
  {
   "cell_type": "code",
   "execution_count": 1,
   "metadata": {},
   "outputs": [],
   "source": [
    "from IPython.display import display"
   ]
  },
  {
   "cell_type": "code",
   "execution_count": 5,
   "metadata": {},
   "outputs": [],
   "source": [
    "from alpaca.data import CryptoHistoricalDataClient"
   ]
  },
  {
   "cell_type": "code",
   "execution_count": 6,
   "metadata": {},
   "outputs": [],
   "source": [
    "client = CryptoHistoricalDataClient()"
   ]
  },
  {
   "cell_type": "code",
   "execution_count": 4,
   "metadata": {},
   "outputs": [],
   "source": [
    "from alpaca.data.historical import CryptoHistoricalDataClient\n",
    "from alpaca.data.requests import CryptoLatestQuoteRequest"
   ]
  },
  {
   "cell_type": "code",
   "execution_count": 5,
   "metadata": {},
   "outputs": [
    {
     "data": {
      "text/plain": [
       "23049.0"
      ]
     },
     "execution_count": 5,
     "metadata": {},
     "output_type": "execute_result"
    }
   ],
   "source": [
    "request_params = CryptoLatestQuoteRequest(symbol_or_symbols=\"BTC/USD\")\n",
    "\n",
    "latest_quote = client.get_crypto_latest_quote(request_params)\n",
    "\n",
    "latest_quote[\"BTC/USD\"].ask_price"
   ]
  },
  {
   "cell_type": "code",
   "execution_count": 3,
   "metadata": {},
   "outputs": [],
   "source": [
    "from alpaca.data.historical import CryptoHistoricalDataClient\n",
    "from alpaca.data.requests import CryptoBarsRequest\n",
    "from alpaca.data.timeframe import TimeFrame"
   ]
  },
  {
   "cell_type": "code",
   "execution_count": 2,
   "metadata": {},
   "outputs": [],
   "source": [
    "import pandas as pd"
   ]
  },
  {
   "cell_type": "code",
   "execution_count": 7,
   "metadata": {},
   "outputs": [],
   "source": [
    "request_params = CryptoBarsRequest(\n",
    "                        symbol_or_symbols=[\"BTC/USD\", \"ETH/USD\", \"LTC/USD\", \"SOL/USD\", \"DOGE/USD\"],\n",
    "                        timeframe=TimeFrame.Day,\n",
    "                        start=\"2020-01-01\",\n",
    "                        end=\"2022-08-11\"\n",
    "                 )\n",
    "\n",
    "bars_test = client.get_crypto_bars(request_params).df"
   ]
  },
  {
   "cell_type": "code",
   "execution_count": 9,
   "metadata": {},
   "outputs": [],
   "source": [
    "bars_test.to_pickle('data_btc_eth_ltc_sol_doge_dayframe.pkl')"
   ]
  },
  {
   "cell_type": "code",
   "execution_count": 49,
   "metadata": {},
   "outputs": [],
   "source": [
    "bars_test.to_pickle('data_btc_eth_ltc_sol_doge_2y.pkl')"
   ]
  },
  {
   "cell_type": "code",
   "execution_count": 42,
   "metadata": {},
   "outputs": [],
   "source": [
    "client = CryptoHistoricalDataClient()\n",
    "\n",
    "request_params = CryptoBarsRequest(\n",
    "                        symbol_or_symbols=[\"BTC/USD\"],\n",
    "                        timeframe=TimeFrame.Day,\n",
    "                        start=\"2022-07-27\",\n",
    "                        end=\"2022-08-02\"\n",
    "                 )\n",
    "\n",
    "bars_week = client.get_crypto_bars(request_params).df.close.to_numpy()\n",
    "\n",
    "request_params = CryptoBarsRequest(\n",
    "                        symbol_or_symbols=[\"BTC/USD\"],\n",
    "                        timeframe=TimeFrame.Day,\n",
    "                        start=\"2022-07-02\",\n",
    "                        end=\"2022-08-02\"\n",
    "                 )\n",
    "\n",
    "bars_month = client.get_crypto_bars(request_params).df.close.to_numpy()\n",
    "\n",
    "request_params = CryptoBarsRequest(\n",
    "                        symbol_or_symbols=[\"BTC/USD\"],\n",
    "                        timeframe=TimeFrame.Day,\n",
    "                        start=\"2021-08-02\",\n",
    "                        end=\"2022-08-02\"\n",
    "                 )\n",
    "\n",
    "bars_year = client.get_crypto_bars(request_params).df.close.to_numpy()"
   ]
  },
  {
   "cell_type": "code",
   "execution_count": 53,
   "metadata": {},
   "outputs": [],
   "source": [
    "request_params = CryptoBarsRequest(\n",
    "                        symbol_or_symbols=[\"BTC/USD\"],\n",
    "                        timeframe=TimeFrame.Day,\n",
    "                        start=\"2022-07-18\",\n",
    "                        end=\"2022-07-25\"\n",
    "                 )\n",
    "\n",
    "bars_week = client.get_crypto_bars(request_params).df.close.to_numpy()"
   ]
  },
  {
   "cell_type": "code",
   "execution_count": 54,
   "metadata": {},
   "outputs": [
    {
     "data": {
      "text/plain": [
       "((8,), 698.7464557155191, 22431.125, 3.115075395083925)"
      ]
     },
     "execution_count": 54,
     "metadata": {},
     "output_type": "execute_result"
    }
   ],
   "source": [
    "bars_week.shape, bars_week.std(), bars_week.mean(), bars_week.std()/bars_week.mean()*100"
   ]
  },
  {
   "cell_type": "code",
   "execution_count": 48,
   "metadata": {},
   "outputs": [
    {
     "data": {
      "text/plain": [
       "((32,), 1417.2345637168712, 21625.0625, 6.553666902543617)"
      ]
     },
     "execution_count": 48,
     "metadata": {},
     "output_type": "execute_result"
    }
   ],
   "source": [
    "bars_month.shape, bars_month.std(), bars_month.mean(), bars_month.std()/bars_month.mean()*100"
   ]
  },
  {
   "cell_type": "code",
   "execution_count": 49,
   "metadata": {},
   "outputs": [
    {
     "data": {
      "text/plain": [
       "((366,), 11870.059687289457, 41705.1912568306, 28.461827723533922)"
      ]
     },
     "execution_count": 49,
     "metadata": {},
     "output_type": "execute_result"
    }
   ],
   "source": [
    "bars_year.shape, bars_year.std(), bars_year.mean(), bars_year.std()/bars_year.mean()*100"
   ]
  },
  {
   "cell_type": "code",
   "execution_count": 46,
   "metadata": {},
   "outputs": [],
   "source": [
    "from alpaca.data.live import CryptoDataStream"
   ]
  },
  {
   "cell_type": "code",
   "execution_count": null,
   "metadata": {},
   "outputs": [],
   "source": [
    "stream = CryptoDataStream()\n",
    "async def quote_data_handler(data):\n",
    "    print(data)\n",
    "\n",
    "stream.subscribe_quotes(quote_data_handler, \"SPY\")\n",
    "stream.run()"
   ]
  },
  {
   "cell_type": "code",
   "execution_count": 1,
   "metadata": {},
   "outputs": [],
   "source": [
    "import numpy as np"
   ]
  },
  {
   "cell_type": "code",
   "execution_count": 20,
   "metadata": {},
   "outputs": [],
   "source": [
    "a = np.array([1,1,1,2,1,1,1,1,1,1,1])"
   ]
  },
  {
   "cell_type": "code",
   "execution_count": 21,
   "metadata": {},
   "outputs": [
    {
     "data": {
      "text/plain": [
       "(0.28747978728803447, 1.0909090909090908)"
      ]
     },
     "execution_count": 21,
     "metadata": {},
     "output_type": "execute_result"
    }
   ],
   "source": [
    "a.std(), a.mean()"
   ]
  },
  {
   "cell_type": "code",
   "execution_count": 34,
   "metadata": {},
   "outputs": [
    {
     "data": {
      "text/plain": [
       "26.352313834736496"
      ]
     },
     "execution_count": 34,
     "metadata": {},
     "output_type": "execute_result"
    }
   ],
   "source": [
    "a.std()/a.mean()*100"
   ]
  },
  {
   "cell_type": "code",
   "execution_count": 3,
   "metadata": {},
   "outputs": [
    {
     "data": {
      "text/plain": [
       "['alpaca_key.json',\n",
       " 'data',\n",
       " 'indicators.py',\n",
       " 'output.png',\n",
       " 'smart_param.py',\n",
       " 'testing',\n",
       " '__pycache__']"
      ]
     },
     "metadata": {},
     "output_type": "display_data"
    }
   ],
   "source": [
    "import os\n",
    "os.chdir('C:/Users/Guy/Desktop/NewGridBot/')\n",
    "display(os.listdir())"
   ]
  },
  {
   "cell_type": "code",
   "execution_count": 19,
   "metadata": {},
   "outputs": [],
   "source": [
    "import json"
   ]
  },
  {
   "cell_type": "code",
   "execution_count": 22,
   "metadata": {},
   "outputs": [],
   "source": [
    "with open('alpaca_key.json') as f:\n",
    "    keys = json.load(f)"
   ]
  },
  {
   "cell_type": "code",
   "execution_count": 23,
   "metadata": {},
   "outputs": [
    {
     "data": {
      "text/plain": [
       "{'key_id': 'PK9L4ITHPJSLZZZT2G9W',\n",
       " 'secret_key': 'LGhF0W83vsacL123NnzGnfCRMp5OLMnRqaIoQFcZ',\n",
       " 'base_url': 'https://paper-api.alpaca.markets'}"
      ]
     },
     "execution_count": 23,
     "metadata": {},
     "output_type": "execute_result"
    }
   ],
   "source": [
    "keys"
   ]
  },
  {
   "cell_type": "code",
   "execution_count": 24,
   "metadata": {},
   "outputs": [],
   "source": [
    "from alpaca.trading.client import TradingClient\n",
    "\n",
    "# paper=True enables paper trading\n",
    "trading_client = TradingClient(keys['key_id'], keys['secret_key'], paper=True)"
   ]
  },
  {
   "cell_type": "code",
   "execution_count": 25,
   "metadata": {},
   "outputs": [
    {
     "data": {
      "text/plain": [
       "TradeAccount(id=UUID('f650db5b-b9ef-4f70-9863-47cb235f7d12'), account_number='PA30Z58QKQDU', status=<AccountStatus.ACTIVE: 'ACTIVE'>, crypto_status=<AccountStatus.ACTIVE: 'ACTIVE'>, currency='USD', buying_power='197635.52', regt_buying_power='197635.52', daytrading_buying_power='0', non_marginable_buying_power='98817.76', cash='98817.76', accrued_fees='0', pending_transfer_out=None, pending_transfer_in='0', portfolio_value='98818.1144416', pattern_day_trader=False, trading_blocked=False, transfers_blocked=False, account_blocked=False, created_at=datetime.datetime(2022, 7, 27, 22, 28, 12, 593275, tzinfo=datetime.timezone.utc), trade_suspended_by_user=False, multiplier='2', shorting_enabled=True, equity='98818.1144416', last_equity='98818.11208', long_market_value='0.3544416', short_market_value='0', initial_margin='0', maintenance_margin='0', last_maintenance_margin='0', sma='98817.76', daytrade_count=0)"
      ]
     },
     "execution_count": 25,
     "metadata": {},
     "output_type": "execute_result"
    }
   ],
   "source": [
    "trading_client.get_account()"
   ]
  },
  {
   "cell_type": "code",
   "execution_count": 8,
   "metadata": {},
   "outputs": [],
   "source": [
    "from alpaca.trading.requests import GetAssetsRequest\n",
    "from alpaca.trading.enums import AssetClass"
   ]
  },
  {
   "cell_type": "code",
   "execution_count": 13,
   "metadata": {},
   "outputs": [],
   "source": [
    "search_params = GetAssetsRequest(asset_class=AssetClass.CRYPTO)\n",
    "assets = trading_client.get_all_assets(search_params)"
   ]
  },
  {
   "cell_type": "code",
   "execution_count": null,
   "metadata": {},
   "outputs": [],
   "source": [
    "assets"
   ]
  },
  {
   "cell_type": "code",
   "execution_count": 16,
   "metadata": {},
   "outputs": [],
   "source": [
    "from alpaca.trading.requests import MarketOrderRequest, LimitOrderRequest, TakeProfitRequest, StopLossRequest\n",
    "from alpaca.trading.enums import OrderSide, TimeInForce"
   ]
  },
  {
   "cell_type": "code",
   "execution_count": 35,
   "metadata": {},
   "outputs": [
    {
     "ename": "APIError",
     "evalue": "{\"code\":40010001,\"message\":\"could not find asset \\\"USD/USDT\\\"\"}",
     "output_type": "error",
     "traceback": [
      "\u001b[1;31m---------------------------------------------------------------------------\u001b[0m",
      "\u001b[1;31mHTTPError\u001b[0m                                 Traceback (most recent call last)",
      "File \u001b[1;32mc:\\Python3104\\lib\\site-packages\\alpaca\\common\\rest.py:187\u001b[0m, in \u001b[0;36mRESTClient._one_request\u001b[1;34m(self, method, url, opts, retry)\u001b[0m\n\u001b[0;32m    186\u001b[0m \u001b[39mtry\u001b[39;00m:\n\u001b[1;32m--> 187\u001b[0m     response\u001b[39m.\u001b[39;49mraise_for_status()\n\u001b[0;32m    188\u001b[0m \u001b[39mexcept\u001b[39;00m HTTPError \u001b[39mas\u001b[39;00m http_error:\n\u001b[0;32m    189\u001b[0m     \u001b[39m# retry if we hit Rate Limit\u001b[39;00m\n",
      "File \u001b[1;32mc:\\Python3104\\lib\\site-packages\\requests\\models.py:960\u001b[0m, in \u001b[0;36mResponse.raise_for_status\u001b[1;34m(self)\u001b[0m\n\u001b[0;32m    959\u001b[0m \u001b[39mif\u001b[39;00m http_error_msg:\n\u001b[1;32m--> 960\u001b[0m     \u001b[39mraise\u001b[39;00m HTTPError(http_error_msg, response\u001b[39m=\u001b[39m\u001b[39mself\u001b[39m)\n",
      "\u001b[1;31mHTTPError\u001b[0m: 422 Client Error: Unprocessable Entity for url: https://paper-api.alpaca.markets/v2/orders",
      "\nDuring handling of the above exception, another exception occurred:\n",
      "\u001b[1;31mAPIError\u001b[0m                                  Traceback (most recent call last)",
      "\u001b[1;32mc:\\Users\\Guy\\Desktop\\NewGridBot\\testing\\test_aplaca.ipynb Cellule 30\u001b[0m in \u001b[0;36m<cell line: 8>\u001b[1;34m()\u001b[0m\n\u001b[0;32m      <a href='vscode-notebook-cell:/c%3A/Users/Guy/Desktop/NewGridBot/testing/test_aplaca.ipynb#X40sZmlsZQ%3D%3D?line=0'>1</a>\u001b[0m market_order_data \u001b[39m=\u001b[39m MarketOrderRequest(\n\u001b[0;32m      <a href='vscode-notebook-cell:/c%3A/Users/Guy/Desktop/NewGridBot/testing/test_aplaca.ipynb#X40sZmlsZQ%3D%3D?line=1'>2</a>\u001b[0m                     symbol\u001b[39m=\u001b[39m\u001b[39m\"\u001b[39m\u001b[39mUSD/USDT\u001b[39m\u001b[39m\"\u001b[39m,\n\u001b[0;32m      <a href='vscode-notebook-cell:/c%3A/Users/Guy/Desktop/NewGridBot/testing/test_aplaca.ipynb#X40sZmlsZQ%3D%3D?line=2'>3</a>\u001b[0m                     qty\u001b[39m=\u001b[39m\u001b[39m1\u001b[39m,\n\u001b[0;32m      <a href='vscode-notebook-cell:/c%3A/Users/Guy/Desktop/NewGridBot/testing/test_aplaca.ipynb#X40sZmlsZQ%3D%3D?line=3'>4</a>\u001b[0m                     side\u001b[39m=\u001b[39mOrderSide\u001b[39m.\u001b[39mBUY,\n\u001b[0;32m      <a href='vscode-notebook-cell:/c%3A/Users/Guy/Desktop/NewGridBot/testing/test_aplaca.ipynb#X40sZmlsZQ%3D%3D?line=4'>5</a>\u001b[0m                     time_in_force\u001b[39m=\u001b[39mTimeInForce\u001b[39m.\u001b[39mGTC\n\u001b[0;32m      <a href='vscode-notebook-cell:/c%3A/Users/Guy/Desktop/NewGridBot/testing/test_aplaca.ipynb#X40sZmlsZQ%3D%3D?line=5'>6</a>\u001b[0m                     )\n\u001b[1;32m----> <a href='vscode-notebook-cell:/c%3A/Users/Guy/Desktop/NewGridBot/testing/test_aplaca.ipynb#X40sZmlsZQ%3D%3D?line=7'>8</a>\u001b[0m order \u001b[39m=\u001b[39m trading_client\u001b[39m.\u001b[39;49msubmit_order(\n\u001b[0;32m      <a href='vscode-notebook-cell:/c%3A/Users/Guy/Desktop/NewGridBot/testing/test_aplaca.ipynb#X40sZmlsZQ%3D%3D?line=8'>9</a>\u001b[0m                 order_data\u001b[39m=\u001b[39;49mmarket_order_data\n\u001b[0;32m     <a href='vscode-notebook-cell:/c%3A/Users/Guy/Desktop/NewGridBot/testing/test_aplaca.ipynb#X40sZmlsZQ%3D%3D?line=9'>10</a>\u001b[0m               )\n",
      "File \u001b[1;32mc:\\Python3104\\lib\\site-packages\\alpaca\\trading\\client.py:88\u001b[0m, in \u001b[0;36mTradingClient.submit_order\u001b[1;34m(self, order_data)\u001b[0m\n\u001b[0;32m     79\u001b[0m \u001b[39m\"\"\"Creates an order to buy or sell an asset.\u001b[39;00m\n\u001b[0;32m     80\u001b[0m \n\u001b[0;32m     81\u001b[0m \u001b[39mArgs:\u001b[39;00m\n\u001b[1;32m   (...)\u001b[0m\n\u001b[0;32m     85\u001b[0m \u001b[39m    alpaca.trading.models.Order: The resulting submitted order.\u001b[39;00m\n\u001b[0;32m     86\u001b[0m \u001b[39m\"\"\"\u001b[39;00m\n\u001b[0;32m     87\u001b[0m data \u001b[39m=\u001b[39m order_data\u001b[39m.\u001b[39mto_request_fields()\n\u001b[1;32m---> 88\u001b[0m response \u001b[39m=\u001b[39m \u001b[39mself\u001b[39;49m\u001b[39m.\u001b[39;49mpost(\u001b[39m\"\u001b[39;49m\u001b[39m/orders\u001b[39;49m\u001b[39m\"\u001b[39;49m, data)\n\u001b[0;32m     90\u001b[0m \u001b[39mreturn\u001b[39;00m Order(\u001b[39m*\u001b[39m\u001b[39m*\u001b[39mresponse)\n",
      "File \u001b[1;32mc:\\Python3104\\lib\\site-packages\\alpaca\\common\\rest.py:225\u001b[0m, in \u001b[0;36mRESTClient.post\u001b[1;34m(self, path, data)\u001b[0m\n\u001b[0;32m    214\u001b[0m \u001b[39mdef\u001b[39;00m \u001b[39mpost\u001b[39m(\u001b[39mself\u001b[39m, path: \u001b[39mstr\u001b[39m, data: Union[\u001b[39mdict\u001b[39m, List[\u001b[39mdict\u001b[39m], \u001b[39mstr\u001b[39m] \u001b[39m=\u001b[39m \u001b[39mNone\u001b[39;00m) \u001b[39m-\u001b[39m\u001b[39m>\u001b[39m HTTPResult:\n\u001b[0;32m    215\u001b[0m     \u001b[39m\"\"\"Performs a single POST request\u001b[39;00m\n\u001b[0;32m    216\u001b[0m \n\u001b[0;32m    217\u001b[0m \u001b[39m    Args:\u001b[39;00m\n\u001b[1;32m   (...)\u001b[0m\n\u001b[0;32m    223\u001b[0m \u001b[39m        dict: The response\u001b[39;00m\n\u001b[0;32m    224\u001b[0m \u001b[39m    \"\"\"\u001b[39;00m\n\u001b[1;32m--> 225\u001b[0m     \u001b[39mreturn\u001b[39;00m \u001b[39mself\u001b[39;49m\u001b[39m.\u001b[39;49m_request(\u001b[39m\"\u001b[39;49m\u001b[39mPOST\u001b[39;49m\u001b[39m\"\u001b[39;49m, path, data)\n",
      "File \u001b[1;32mc:\\Python3104\\lib\\site-packages\\alpaca\\common\\rest.py:126\u001b[0m, in \u001b[0;36mRESTClient._request\u001b[1;34m(self, method, path, data, base_url, api_version)\u001b[0m\n\u001b[0;32m    124\u001b[0m \u001b[39mwhile\u001b[39;00m retry \u001b[39m>\u001b[39m\u001b[39m=\u001b[39m \u001b[39m0\u001b[39m:\n\u001b[0;32m    125\u001b[0m     \u001b[39mtry\u001b[39;00m:\n\u001b[1;32m--> 126\u001b[0m         \u001b[39mreturn\u001b[39;00m \u001b[39mself\u001b[39;49m\u001b[39m.\u001b[39;49m_one_request(method, url, opts, retry)\n\u001b[0;32m    127\u001b[0m     \u001b[39mexcept\u001b[39;00m RetryException:\n\u001b[0;32m    128\u001b[0m         time\u001b[39m.\u001b[39msleep(\u001b[39mself\u001b[39m\u001b[39m.\u001b[39m_retry_wait)\n",
      "File \u001b[1;32mc:\\Python3104\\lib\\site-packages\\alpaca\\common\\rest.py:196\u001b[0m, in \u001b[0;36mRESTClient._one_request\u001b[1;34m(self, method, url, opts, retry)\u001b[0m\n\u001b[0;32m    193\u001b[0m     \u001b[39m# raise API error for all other errors\u001b[39;00m\n\u001b[0;32m    194\u001b[0m     error \u001b[39m=\u001b[39m response\u001b[39m.\u001b[39mtext\n\u001b[1;32m--> 196\u001b[0m     \u001b[39mraise\u001b[39;00m APIError(error, http_error)\n\u001b[0;32m    198\u001b[0m \u001b[39mif\u001b[39;00m response\u001b[39m.\u001b[39mtext \u001b[39m!=\u001b[39m \u001b[39m\"\u001b[39m\u001b[39m\"\u001b[39m:\n\u001b[0;32m    199\u001b[0m     \u001b[39mreturn\u001b[39;00m response\u001b[39m.\u001b[39mjson()\n",
      "\u001b[1;31mAPIError\u001b[0m: {\"code\":40010001,\"message\":\"could not find asset \\\"USD/USDT\\\"\"}"
     ]
    }
   ],
   "source": [
    "market_order_data = MarketOrderRequest(\n",
    "                    symbol=\"USD/USDT\",\n",
    "                    qty=1,\n",
    "                    side=OrderSide.BUY,\n",
    "                    time_in_force=TimeInForce.GTC\n",
    "                    )\n",
    "\n",
    "order = trading_client.submit_order(\n",
    "                order_data=market_order_data\n",
    "              )"
   ]
  },
  {
   "cell_type": "code",
   "execution_count": 29,
   "metadata": {},
   "outputs": [
    {
     "ename": "APIError",
     "evalue": "{\"code\":42210000,\"message\":\"limit price increment must be \\u003e 1\"}",
     "output_type": "error",
     "traceback": [
      "\u001b[1;31m---------------------------------------------------------------------------\u001b[0m",
      "\u001b[1;31mHTTPError\u001b[0m                                 Traceback (most recent call last)",
      "File \u001b[1;32mc:\\Python3104\\lib\\site-packages\\alpaca\\common\\rest.py:187\u001b[0m, in \u001b[0;36mRESTClient._one_request\u001b[1;34m(self, method, url, opts, retry)\u001b[0m\n\u001b[0;32m    186\u001b[0m \u001b[39mtry\u001b[39;00m:\n\u001b[1;32m--> 187\u001b[0m     response\u001b[39m.\u001b[39;49mraise_for_status()\n\u001b[0;32m    188\u001b[0m \u001b[39mexcept\u001b[39;00m HTTPError \u001b[39mas\u001b[39;00m http_error:\n\u001b[0;32m    189\u001b[0m     \u001b[39m# retry if we hit Rate Limit\u001b[39;00m\n",
      "File \u001b[1;32mc:\\Python3104\\lib\\site-packages\\requests\\models.py:960\u001b[0m, in \u001b[0;36mResponse.raise_for_status\u001b[1;34m(self)\u001b[0m\n\u001b[0;32m    959\u001b[0m \u001b[39mif\u001b[39;00m http_error_msg:\n\u001b[1;32m--> 960\u001b[0m     \u001b[39mraise\u001b[39;00m HTTPError(http_error_msg, response\u001b[39m=\u001b[39m\u001b[39mself\u001b[39m)\n",
      "\u001b[1;31mHTTPError\u001b[0m: 422 Client Error: Unprocessable Entity for url: https://paper-api.alpaca.markets/v2/orders",
      "\nDuring handling of the above exception, another exception occurred:\n",
      "\u001b[1;31mAPIError\u001b[0m                                  Traceback (most recent call last)",
      "\u001b[1;32mc:\\Users\\Guy\\Desktop\\NewGridBot\\test_aplaca.ipynb Cellule 29\u001b[0m in \u001b[0;36m<cell line: 13>\u001b[1;34m()\u001b[0m\n\u001b[0;32m      <a href='vscode-notebook-cell:/c%3A/Users/Guy/Desktop/NewGridBot/test_aplaca.ipynb#X44sZmlsZQ%3D%3D?line=2'>3</a>\u001b[0m latest_quote \u001b[39m=\u001b[39m client\u001b[39m.\u001b[39mget_crypto_latest_quote(request_params)\n\u001b[0;32m      <a href='vscode-notebook-cell:/c%3A/Users/Guy/Desktop/NewGridBot/test_aplaca.ipynb#X44sZmlsZQ%3D%3D?line=4'>5</a>\u001b[0m limit_order_data \u001b[39m=\u001b[39m LimitOrderRequest(\n\u001b[0;32m      <a href='vscode-notebook-cell:/c%3A/Users/Guy/Desktop/NewGridBot/test_aplaca.ipynb#X44sZmlsZQ%3D%3D?line=5'>6</a>\u001b[0m                     symbol\u001b[39m=\u001b[39m\u001b[39m\"\u001b[39m\u001b[39mBTC/USD\u001b[39m\u001b[39m\"\u001b[39m,\n\u001b[0;32m      <a href='vscode-notebook-cell:/c%3A/Users/Guy/Desktop/NewGridBot/test_aplaca.ipynb#X44sZmlsZQ%3D%3D?line=6'>7</a>\u001b[0m                     limit_price\u001b[39m=\u001b[39mlast_price\u001b[39m*\u001b[39m\u001b[39m1.1\u001b[39m,\n\u001b[1;32m   (...)\u001b[0m\n\u001b[0;32m     <a href='vscode-notebook-cell:/c%3A/Users/Guy/Desktop/NewGridBot/test_aplaca.ipynb#X44sZmlsZQ%3D%3D?line=9'>10</a>\u001b[0m                     time_in_force\u001b[39m=\u001b[39mTimeInForce\u001b[39m.\u001b[39mFOK\n\u001b[0;32m     <a href='vscode-notebook-cell:/c%3A/Users/Guy/Desktop/NewGridBot/test_aplaca.ipynb#X44sZmlsZQ%3D%3D?line=10'>11</a>\u001b[0m                    )\n\u001b[1;32m---> <a href='vscode-notebook-cell:/c%3A/Users/Guy/Desktop/NewGridBot/test_aplaca.ipynb#X44sZmlsZQ%3D%3D?line=12'>13</a>\u001b[0m limit_order \u001b[39m=\u001b[39m trading_client\u001b[39m.\u001b[39;49msubmit_order(\n\u001b[0;32m     <a href='vscode-notebook-cell:/c%3A/Users/Guy/Desktop/NewGridBot/test_aplaca.ipynb#X44sZmlsZQ%3D%3D?line=13'>14</a>\u001b[0m                 order_data\u001b[39m=\u001b[39;49mlimit_order_data\n\u001b[0;32m     <a href='vscode-notebook-cell:/c%3A/Users/Guy/Desktop/NewGridBot/test_aplaca.ipynb#X44sZmlsZQ%3D%3D?line=14'>15</a>\u001b[0m               )\n",
      "File \u001b[1;32mc:\\Python3104\\lib\\site-packages\\alpaca\\trading\\client.py:88\u001b[0m, in \u001b[0;36mTradingClient.submit_order\u001b[1;34m(self, order_data)\u001b[0m\n\u001b[0;32m     79\u001b[0m \u001b[39m\"\"\"Creates an order to buy or sell an asset.\u001b[39;00m\n\u001b[0;32m     80\u001b[0m \n\u001b[0;32m     81\u001b[0m \u001b[39mArgs:\u001b[39;00m\n\u001b[1;32m   (...)\u001b[0m\n\u001b[0;32m     85\u001b[0m \u001b[39m    alpaca.trading.models.Order: The resulting submitted order.\u001b[39;00m\n\u001b[0;32m     86\u001b[0m \u001b[39m\"\"\"\u001b[39;00m\n\u001b[0;32m     87\u001b[0m data \u001b[39m=\u001b[39m order_data\u001b[39m.\u001b[39mto_request_fields()\n\u001b[1;32m---> 88\u001b[0m response \u001b[39m=\u001b[39m \u001b[39mself\u001b[39;49m\u001b[39m.\u001b[39;49mpost(\u001b[39m\"\u001b[39;49m\u001b[39m/orders\u001b[39;49m\u001b[39m\"\u001b[39;49m, data)\n\u001b[0;32m     90\u001b[0m \u001b[39mreturn\u001b[39;00m Order(\u001b[39m*\u001b[39m\u001b[39m*\u001b[39mresponse)\n",
      "File \u001b[1;32mc:\\Python3104\\lib\\site-packages\\alpaca\\common\\rest.py:225\u001b[0m, in \u001b[0;36mRESTClient.post\u001b[1;34m(self, path, data)\u001b[0m\n\u001b[0;32m    214\u001b[0m \u001b[39mdef\u001b[39;00m \u001b[39mpost\u001b[39m(\u001b[39mself\u001b[39m, path: \u001b[39mstr\u001b[39m, data: Union[\u001b[39mdict\u001b[39m, List[\u001b[39mdict\u001b[39m], \u001b[39mstr\u001b[39m] \u001b[39m=\u001b[39m \u001b[39mNone\u001b[39;00m) \u001b[39m-\u001b[39m\u001b[39m>\u001b[39m HTTPResult:\n\u001b[0;32m    215\u001b[0m     \u001b[39m\"\"\"Performs a single POST request\u001b[39;00m\n\u001b[0;32m    216\u001b[0m \n\u001b[0;32m    217\u001b[0m \u001b[39m    Args:\u001b[39;00m\n\u001b[1;32m   (...)\u001b[0m\n\u001b[0;32m    223\u001b[0m \u001b[39m        dict: The response\u001b[39;00m\n\u001b[0;32m    224\u001b[0m \u001b[39m    \"\"\"\u001b[39;00m\n\u001b[1;32m--> 225\u001b[0m     \u001b[39mreturn\u001b[39;00m \u001b[39mself\u001b[39;49m\u001b[39m.\u001b[39;49m_request(\u001b[39m\"\u001b[39;49m\u001b[39mPOST\u001b[39;49m\u001b[39m\"\u001b[39;49m, path, data)\n",
      "File \u001b[1;32mc:\\Python3104\\lib\\site-packages\\alpaca\\common\\rest.py:126\u001b[0m, in \u001b[0;36mRESTClient._request\u001b[1;34m(self, method, path, data, base_url, api_version)\u001b[0m\n\u001b[0;32m    124\u001b[0m \u001b[39mwhile\u001b[39;00m retry \u001b[39m>\u001b[39m\u001b[39m=\u001b[39m \u001b[39m0\u001b[39m:\n\u001b[0;32m    125\u001b[0m     \u001b[39mtry\u001b[39;00m:\n\u001b[1;32m--> 126\u001b[0m         \u001b[39mreturn\u001b[39;00m \u001b[39mself\u001b[39;49m\u001b[39m.\u001b[39;49m_one_request(method, url, opts, retry)\n\u001b[0;32m    127\u001b[0m     \u001b[39mexcept\u001b[39;00m RetryException:\n\u001b[0;32m    128\u001b[0m         time\u001b[39m.\u001b[39msleep(\u001b[39mself\u001b[39m\u001b[39m.\u001b[39m_retry_wait)\n",
      "File \u001b[1;32mc:\\Python3104\\lib\\site-packages\\alpaca\\common\\rest.py:196\u001b[0m, in \u001b[0;36mRESTClient._one_request\u001b[1;34m(self, method, url, opts, retry)\u001b[0m\n\u001b[0;32m    193\u001b[0m     \u001b[39m# raise API error for all other errors\u001b[39;00m\n\u001b[0;32m    194\u001b[0m     error \u001b[39m=\u001b[39m response\u001b[39m.\u001b[39mtext\n\u001b[1;32m--> 196\u001b[0m     \u001b[39mraise\u001b[39;00m APIError(error, http_error)\n\u001b[0;32m    198\u001b[0m \u001b[39mif\u001b[39;00m response\u001b[39m.\u001b[39mtext \u001b[39m!=\u001b[39m \u001b[39m\"\u001b[39m\u001b[39m\"\u001b[39m:\n\u001b[0;32m    199\u001b[0m     \u001b[39mreturn\u001b[39;00m response\u001b[39m.\u001b[39mjson()\n",
      "\u001b[1;31mAPIError\u001b[0m: {\"code\":42210000,\"message\":\"limit price increment must be \\u003e 1\"}"
     ]
    }
   ],
   "source": [
    "request_params = CryptoLatestQuoteRequest(symbol_or_symbols=\"BTC/USD\")\n",
    "\n",
    "latest_quote = client.get_crypto_latest_quote(request_params)\n",
    "\n",
    "limit_order_data = LimitOrderRequest(\n",
    "                    symbol=\"BTC/USD\",\n",
    "                    limit_price=last_price*1.1,\n",
    "                    qty=0.997,\n",
    "                    side=OrderSide.SELL,\n",
    "                    time_in_force=TimeInForce.FOK\n",
    "                   )\n",
    "\n",
    "limit_order = trading_client.submit_order(\n",
    "                order_data=limit_order_data\n",
    "              )"
   ]
  },
  {
   "cell_type": "code",
   "execution_count": 18,
   "metadata": {},
   "outputs": [],
   "source": [
    "market_order_data = MarketOrderRequest(\n",
    "                    symbol=\"BTC/USD\",\n",
    "                    qty=1*0.997,\n",
    "                    side=OrderSide.SELL,\n",
    "                    time_in_force=TimeInForce.DAY\n",
    "                    )\n",
    "\n",
    "market_order = trading_client.submit_order(\n",
    "                order_data=market_order_data\n",
    "               )"
   ]
  },
  {
   "cell_type": "code",
   "execution_count": null,
   "metadata": {},
   "outputs": [],
   "source": [
    "limit_order_data = LimitOrderRequest(\n",
    "                    symbol=\"BTC/USD\",\n",
    "                    limit_price=last_price*1.001,\n",
    "                    qty=1*0.997,\n",
    "                    side=OrderSide.SELL,\n",
    "                    time_in_force=TimeInForce.FOK\n",
    "                   )\n",
    "\n",
    "limit_order = trading_client.submit_order(\n",
    "                order_data=limit_order_data\n",
    "              )"
   ]
  },
  {
   "cell_type": "code",
   "execution_count": 62,
   "metadata": {},
   "outputs": [],
   "source": [
    "import pandas as pd\n",
    "import random"
   ]
  },
  {
   "cell_type": "code",
   "execution_count": null,
   "metadata": {},
   "outputs": [],
   "source": []
  },
  {
   "cell_type": "code",
   "execution_count": 73,
   "metadata": {},
   "outputs": [],
   "source": [
    "df = pd.DataFrame({\"values\": [random.random()*10000 for _ in range(200000)]})"
   ]
  },
  {
   "cell_type": "code",
   "execution_count": 77,
   "metadata": {},
   "outputs": [],
   "source": [
    "import numpy as np"
   ]
  },
  {
   "cell_type": "code",
   "execution_count": 78,
   "metadata": {},
   "outputs": [],
   "source": [
    "arr = np.array([random.random()*10000 for _ in range(200000)])"
   ]
  },
  {
   "cell_type": "code",
   "execution_count": 82,
   "metadata": {},
   "outputs": [
    {
     "data": {
      "text/plain": [
       "(200000,)"
      ]
     },
     "execution_count": 82,
     "metadata": {},
     "output_type": "execute_result"
    }
   ],
   "source": [
    "arr.shape"
   ]
  },
  {
   "cell_type": "code",
   "execution_count": 96,
   "metadata": {},
   "outputs": [
    {
     "data": {
      "text/plain": [
       "(array([     1,      3,      5, ..., 199992, 199993, 199997], dtype=int64),)"
      ]
     },
     "execution_count": 96,
     "metadata": {},
     "output_type": "execute_result"
    }
   ],
   "source": [
    "np.where(arr >= 5000)"
   ]
  },
  {
   "cell_type": "code",
   "execution_count": 94,
   "metadata": {},
   "outputs": [
    {
     "data": {
      "text/plain": [
       "array([8457.68263026, 9158.16579676, 9125.03210645, ..., 5591.18779436,\n",
       "       6781.31466351, 7624.10254075])"
      ]
     },
     "execution_count": 94,
     "metadata": {},
     "output_type": "execute_result"
    }
   ],
   "source": [
    "arr[(arr >= 5000)]"
   ]
  },
  {
   "cell_type": "code",
   "execution_count": 86,
   "metadata": {},
   "outputs": [
    {
     "data": {
      "text/plain": [
       "array([False,  True, False, ...,  True, False, False])"
      ]
     },
     "execution_count": 86,
     "metadata": {},
     "output_type": "execute_result"
    }
   ],
   "source": [
    "arr >= 5000"
   ]
  },
  {
   "cell_type": "code",
   "execution_count": 10,
   "metadata": {},
   "outputs": [],
   "source": [
    "import sys"
   ]
  },
  {
   "cell_type": "code",
   "execution_count": 14,
   "metadata": {},
   "outputs": [],
   "source": [
    "import os"
   ]
  },
  {
   "cell_type": "code",
   "execution_count": 17,
   "metadata": {},
   "outputs": [],
   "source": [
    "os.chdir('../GridTrading/')"
   ]
  },
  {
   "cell_type": "code",
   "execution_count": 19,
   "metadata": {},
   "outputs": [
    {
     "data": {
      "text/plain": [
       "['alapaca_api.py',\n",
       " 'alpaca_key.json',\n",
       " 'indicators.py',\n",
       " 'main.py',\n",
       " 'results',\n",
       " 'result_manager.py',\n",
       " 'smart_param.py',\n",
       " 'testgridtrading.ipynb',\n",
       " 'testing_result_manager.ipynb',\n",
       " 'testing_smartparam.ipynb',\n",
       " 'test_api_alapaca.ipynb',\n",
       " 'trading_bot.py',\n",
       " 'visualisation.ipynb',\n",
       " '__pycache__']"
      ]
     },
     "execution_count": 19,
     "metadata": {},
     "output_type": "execute_result"
    }
   ],
   "source": [
    "os.listdir()"
   ]
  },
  {
   "cell_type": "code",
   "execution_count": 1,
   "metadata": {},
   "outputs": [],
   "source": [
    "import os"
   ]
  },
  {
   "cell_type": "code",
   "execution_count": 5,
   "metadata": {},
   "outputs": [],
   "source": [
    "os.chdir('..')"
   ]
  },
  {
   "cell_type": "code",
   "execution_count": 6,
   "metadata": {},
   "outputs": [
    {
     "data": {
      "text/plain": [
       "['alpaca_key.json', 'data', 'testing']"
      ]
     },
     "execution_count": 6,
     "metadata": {},
     "output_type": "execute_result"
    }
   ],
   "source": [
    "os.listdir()"
   ]
  },
  {
   "cell_type": "code",
   "execution_count": 9,
   "metadata": {},
   "outputs": [],
   "source": [
    "from alpaca.data import CryptoHistoricalDataClient"
   ]
  },
  {
   "cell_type": "code",
   "execution_count": 10,
   "metadata": {},
   "outputs": [],
   "source": [
    "client = CryptoHistoricalDataClient()"
   ]
  },
  {
   "cell_type": "code",
   "execution_count": 7,
   "metadata": {},
   "outputs": [],
   "source": [
    "from alpaca.data.historical import CryptoHistoricalDataClient\n",
    "from alpaca.data.requests import CryptoBarsRequest\n",
    "from alpaca.data.timeframe import TimeFrame"
   ]
  },
  {
   "cell_type": "code",
   "execution_count": 26,
   "metadata": {},
   "outputs": [],
   "source": [
    "request_params = CryptoBarsRequest(\n",
    "                        symbol_or_symbols=[\"BTC/USD\", \"ETH/USD\", \"LTC/USD\"],\n",
    "                        timeframe=TimeFrame.Minute,\n",
    "                        start=\"2021-08-05\",\n",
    "                        end=\"2022-08-05\"\n",
    "                 )\n",
    "\n",
    "year_bars = client.get_crypto_bars(request_params).df"
   ]
  },
  {
   "cell_type": "code",
   "execution_count": 12,
   "metadata": {},
   "outputs": [],
   "source": [
    "import pandas as pd"
   ]
  },
  {
   "cell_type": "code",
   "execution_count": 27,
   "metadata": {},
   "outputs": [
    {
     "data": {
      "text/html": [
       "<div>\n",
       "<style scoped>\n",
       "    .dataframe tbody tr th:only-of-type {\n",
       "        vertical-align: middle;\n",
       "    }\n",
       "\n",
       "    .dataframe tbody tr th {\n",
       "        vertical-align: top;\n",
       "    }\n",
       "\n",
       "    .dataframe thead th {\n",
       "        text-align: right;\n",
       "    }\n",
       "</style>\n",
       "<table border=\"1\" class=\"dataframe\">\n",
       "  <thead>\n",
       "    <tr style=\"text-align: right;\">\n",
       "      <th></th>\n",
       "      <th></th>\n",
       "      <th>open</th>\n",
       "      <th>high</th>\n",
       "      <th>low</th>\n",
       "      <th>close</th>\n",
       "      <th>volume</th>\n",
       "      <th>trade_count</th>\n",
       "      <th>vwap</th>\n",
       "    </tr>\n",
       "    <tr>\n",
       "      <th>symbol</th>\n",
       "      <th>timestamp</th>\n",
       "      <th></th>\n",
       "      <th></th>\n",
       "      <th></th>\n",
       "      <th></th>\n",
       "      <th></th>\n",
       "      <th></th>\n",
       "      <th></th>\n",
       "    </tr>\n",
       "  </thead>\n",
       "  <tbody>\n",
       "    <tr>\n",
       "      <th rowspan=\"5\" valign=\"top\">BTC/USD</th>\n",
       "      <th>2021-08-05 00:01:00+00:00</th>\n",
       "      <td>39651.000</td>\n",
       "      <td>39651.000</td>\n",
       "      <td>39651.000</td>\n",
       "      <td>39651.000</td>\n",
       "      <td>0.0034</td>\n",
       "      <td>1.0</td>\n",
       "      <td>39651.000000</td>\n",
       "    </tr>\n",
       "    <tr>\n",
       "      <th>2021-08-05 00:02:00+00:00</th>\n",
       "      <td>39670.000</td>\n",
       "      <td>39720.000</td>\n",
       "      <td>39644.000</td>\n",
       "      <td>39644.000</td>\n",
       "      <td>0.3091</td>\n",
       "      <td>3.0</td>\n",
       "      <td>39666.878033</td>\n",
       "    </tr>\n",
       "    <tr>\n",
       "      <th>2021-08-05 00:15:00+00:00</th>\n",
       "      <td>39835.000</td>\n",
       "      <td>39835.000</td>\n",
       "      <td>39835.000</td>\n",
       "      <td>39835.000</td>\n",
       "      <td>0.0503</td>\n",
       "      <td>1.0</td>\n",
       "      <td>39835.000000</td>\n",
       "    </tr>\n",
       "    <tr>\n",
       "      <th>2021-08-05 00:18:00+00:00</th>\n",
       "      <td>39717.000</td>\n",
       "      <td>39717.000</td>\n",
       "      <td>39717.000</td>\n",
       "      <td>39717.000</td>\n",
       "      <td>0.0074</td>\n",
       "      <td>1.0</td>\n",
       "      <td>39717.000000</td>\n",
       "    </tr>\n",
       "    <tr>\n",
       "      <th>2021-08-05 00:20:00+00:00</th>\n",
       "      <td>39702.000</td>\n",
       "      <td>39702.000</td>\n",
       "      <td>39699.000</td>\n",
       "      <td>39699.000</td>\n",
       "      <td>0.2879</td>\n",
       "      <td>2.0</td>\n",
       "      <td>39699.525182</td>\n",
       "    </tr>\n",
       "    <tr>\n",
       "      <th>...</th>\n",
       "      <th>...</th>\n",
       "      <td>...</td>\n",
       "      <td>...</td>\n",
       "      <td>...</td>\n",
       "      <td>...</td>\n",
       "      <td>...</td>\n",
       "      <td>...</td>\n",
       "      <td>...</td>\n",
       "    </tr>\n",
       "    <tr>\n",
       "      <th rowspan=\"5\" valign=\"top\">LTC/USD</th>\n",
       "      <th>2022-08-04 23:51:00+00:00</th>\n",
       "      <td>59.870</td>\n",
       "      <td>59.870</td>\n",
       "      <td>59.870</td>\n",
       "      <td>59.870</td>\n",
       "      <td>2.0000</td>\n",
       "      <td>1.0</td>\n",
       "      <td>59.870000</td>\n",
       "    </tr>\n",
       "    <tr>\n",
       "      <th>2022-08-04 23:53:00+00:00</th>\n",
       "      <td>59.840</td>\n",
       "      <td>59.845</td>\n",
       "      <td>59.840</td>\n",
       "      <td>59.845</td>\n",
       "      <td>67.9700</td>\n",
       "      <td>2.0</td>\n",
       "      <td>59.841148</td>\n",
       "    </tr>\n",
       "    <tr>\n",
       "      <th>2022-08-04 23:56:00+00:00</th>\n",
       "      <td>59.840</td>\n",
       "      <td>59.840</td>\n",
       "      <td>59.840</td>\n",
       "      <td>59.840</td>\n",
       "      <td>14.7300</td>\n",
       "      <td>3.0</td>\n",
       "      <td>59.840000</td>\n",
       "    </tr>\n",
       "    <tr>\n",
       "      <th>2022-08-04 23:59:00+00:00</th>\n",
       "      <td>59.670</td>\n",
       "      <td>59.675</td>\n",
       "      <td>59.645</td>\n",
       "      <td>59.645</td>\n",
       "      <td>100.4800</td>\n",
       "      <td>8.0</td>\n",
       "      <td>59.665634</td>\n",
       "    </tr>\n",
       "    <tr>\n",
       "      <th>2022-08-05 00:00:00+00:00</th>\n",
       "      <td>59.645</td>\n",
       "      <td>59.660</td>\n",
       "      <td>59.635</td>\n",
       "      <td>59.660</td>\n",
       "      <td>207.6700</td>\n",
       "      <td>7.0</td>\n",
       "      <td>59.638443</td>\n",
       "    </tr>\n",
       "  </tbody>\n",
       "</table>\n",
       "<p>877521 rows × 7 columns</p>\n",
       "</div>"
      ],
      "text/plain": [
       "                                        open       high        low      close  \\\n",
       "symbol  timestamp                                                               \n",
       "BTC/USD 2021-08-05 00:01:00+00:00  39651.000  39651.000  39651.000  39651.000   \n",
       "        2021-08-05 00:02:00+00:00  39670.000  39720.000  39644.000  39644.000   \n",
       "        2021-08-05 00:15:00+00:00  39835.000  39835.000  39835.000  39835.000   \n",
       "        2021-08-05 00:18:00+00:00  39717.000  39717.000  39717.000  39717.000   \n",
       "        2021-08-05 00:20:00+00:00  39702.000  39702.000  39699.000  39699.000   \n",
       "...                                      ...        ...        ...        ...   \n",
       "LTC/USD 2022-08-04 23:51:00+00:00     59.870     59.870     59.870     59.870   \n",
       "        2022-08-04 23:53:00+00:00     59.840     59.845     59.840     59.845   \n",
       "        2022-08-04 23:56:00+00:00     59.840     59.840     59.840     59.840   \n",
       "        2022-08-04 23:59:00+00:00     59.670     59.675     59.645     59.645   \n",
       "        2022-08-05 00:00:00+00:00     59.645     59.660     59.635     59.660   \n",
       "\n",
       "                                     volume  trade_count          vwap  \n",
       "symbol  timestamp                                                       \n",
       "BTC/USD 2021-08-05 00:01:00+00:00    0.0034          1.0  39651.000000  \n",
       "        2021-08-05 00:02:00+00:00    0.3091          3.0  39666.878033  \n",
       "        2021-08-05 00:15:00+00:00    0.0503          1.0  39835.000000  \n",
       "        2021-08-05 00:18:00+00:00    0.0074          1.0  39717.000000  \n",
       "        2021-08-05 00:20:00+00:00    0.2879          2.0  39699.525182  \n",
       "...                                     ...          ...           ...  \n",
       "LTC/USD 2022-08-04 23:51:00+00:00    2.0000          1.0     59.870000  \n",
       "        2022-08-04 23:53:00+00:00   67.9700          2.0     59.841148  \n",
       "        2022-08-04 23:56:00+00:00   14.7300          3.0     59.840000  \n",
       "        2022-08-04 23:59:00+00:00  100.4800          8.0     59.665634  \n",
       "        2022-08-05 00:00:00+00:00  207.6700          7.0     59.638443  \n",
       "\n",
       "[877521 rows x 7 columns]"
      ]
     },
     "execution_count": 27,
     "metadata": {},
     "output_type": "execute_result"
    }
   ],
   "source": [
    "year_bars"
   ]
  },
  {
   "cell_type": "code",
   "execution_count": 28,
   "metadata": {},
   "outputs": [
    {
     "data": {
      "text/plain": [
       "['alpaca_key.json', 'data', 'testing']"
      ]
     },
     "execution_count": 28,
     "metadata": {},
     "output_type": "execute_result"
    }
   ],
   "source": [
    "os.listdir()"
   ]
  }
 ],
 "metadata": {
  "kernelspec": {
   "display_name": "Python 3.10.4 64-bit",
   "language": "python",
   "name": "python3"
  },
  "language_info": {
   "codemirror_mode": {
    "name": "ipython",
    "version": 3
   },
   "file_extension": ".py",
   "mimetype": "text/x-python",
   "name": "python",
   "nbconvert_exporter": "python",
   "pygments_lexer": "ipython3",
   "version": "3.10.4"
  },
  "orig_nbformat": 4,
  "vscode": {
   "interpreter": {
    "hash": "0986a705e0e9c41aedb0cb54b09a403593fe0a5bc8bc18fb428b786d741665bc"
   }
  }
 },
 "nbformat": 4,
 "nbformat_minor": 2
}
